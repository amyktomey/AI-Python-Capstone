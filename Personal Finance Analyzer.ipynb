{
 "cells": [
  {
   "cell_type": "markdown",
   "id": "fc16130c",
   "metadata": {},
   "source": [
    "Personal Finance Analyzer"
   ]
  },
  {
   "cell_type": "code",
   "execution_count": 3,
   "id": "f4e36733",
   "metadata": {},
   "outputs": [
    {
     "name": "stdout",
     "output_type": "stream",
     "text": [
      "9,2022-01-30,950,3006.30,credit,Popular three war arm best.\n"
     ]
    }
   ],
   "source": [
    "import csv\n",
    "from datetime import datetime\n",
    "# using test file\n",
    "def load_transactions(filename='transactions_test_file.csv'):\n",
    "    \"\"\"Load transactions from a CSV file into a list of dictionaries.\"\"\"\n",
    "    transactions = []\n",
    "       # Open file with 'with' statement \n",
    "    with open(filename) as csvdatafile:\n",
    "    # For each row:\n",
    "        for line in csvdatafile:\n",
    "            line = line.replace(\"\\n\", \"\")  \n",
    "            parts = line.split(\",\")             \n",
    "    #   Parse date with datetime.strptime\n",
    "            \n",
    "\n",
    "    #   Make amount negative for 'debit'\n",
    "\n",
    "    #   Create dictionary with all fields\n",
    "\n",
    "    #   Add to transactions\n",
    "\n",
    "    # Use csv.DictReader\n",
    "\n",
    "    # Catch FileNotFoundError, ValueError\n",
    "    #return transactions\n",
    "           \n",
    "\n",
    "\n",
    "        print(line)\n",
    "\n",
    "load_transactions()\n"
   ]
  }
 ],
 "metadata": {
  "kernelspec": {
   "display_name": "base",
   "language": "python",
   "name": "python3"
  },
  "language_info": {
   "codemirror_mode": {
    "name": "ipython",
    "version": 3
   },
   "file_extension": ".py",
   "mimetype": "text/x-python",
   "name": "python",
   "nbconvert_exporter": "python",
   "pygments_lexer": "ipython3",
   "version": "3.8.8"
  }
 },
 "nbformat": 4,
 "nbformat_minor": 5
}
